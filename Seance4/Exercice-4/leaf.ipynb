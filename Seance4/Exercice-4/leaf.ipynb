{
 "cells": [
  {
   "cell_type": "code",
   "execution_count": null,
   "metadata": {},
   "outputs": [
    {
     "name": "stdout",
     "output_type": "stream",
     "text": [
      "\u001b[1m1/1\u001b[0m \u001b[32m━━━━━━━━━━━━━━━━━━━━\u001b[0m\u001b[37m\u001b[0m \u001b[1m0s\u001b[0m 246ms/step\n"
     ]
    },
    {
     "data": {
      "text/plain": [
       "(np.float64(-0.5), np.float64(127.5), np.float64(127.5), np.float64(-0.5))"
      ]
     },
     "execution_count": 1,
     "metadata": {},
     "output_type": "execute_result"
    },
    {
     "data": {
      "image/png": "[encoded data removed]",
      "text/plain": [
       "<Figure size 640x480 with 1 Axes>"
      ]
     },
     "metadata": {},
     "output_type": "display_data"
    }
   ],
   "source": [
    "import cv2\n",
    "from tqdm import tqdm\n",
    "from itertools import chain\n",
    "from skimage.io import imread, imshow, imread_collection, concatenate_images\n",
    "from skimage.transform import resize\n",
    "from skimage.morphology import label\n",
    "import numpy as np\n",
    "import tensorflow as tf\n",
    "from tensorflow.keras import backend as K\n",
    "import random\n",
    "import os\n",
    "import matplotlib.pyplot as plt\n",
    "\n",
    "# the coefficient takes values in [0, 1], where 0 is the worst score, 1 is the best score\n",
    "# the dice coefficient of two sets represented as vectors a, b ca be computed as (2 *|a b| / (a^2 + b^2))\n",
    "def dice_coefficient(y_true, y_pred):\n",
    "    eps = 1e-6\n",
    "    y_true_f = K.flatten(y_true)\n",
    "    y_pred_f = K.flatten(y_pred)\n",
    "    intersection = K.sum(y_true_f * y_pred_f)\n",
    "    return (2. * intersection) / (K.sum(y_true_f * y_true_f) + K.sum(y_pred_f * y_pred_f) + eps)\n",
    "\n",
    "model_path_ = os.path.join(r'C:\\Users\\KiloO\\Deep-image-processing\\Seance4\\Exercice-4\\LEAF_best.keras')\n",
    "model_New = tf.keras.models.load_model(model_path_,custom_objects={'dice_coefficient': dice_coefficient})\n",
    "img_ = imread(r'C:\\Users\\KiloO\\Deep-image-processing\\Seance4\\Exercice-4\\img_1.png')\n",
    "\n",
    "_, IMG_HEIGHT, IMG_WIDTH, IMG_CHANNELS = list(model_New.input.shape)\n",
    "\n",
    "img_ = img_[:,:,:IMG_CHANNELS]\n",
    "X = np.zeros((1, IMG_HEIGHT, IMG_WIDTH, IMG_CHANNELS), dtype=np.uint8)\n",
    "h_or, w_or, _ = img_.shape\n",
    "ORIGIN = np.zeros((1, h_or, w_or, IMG_CHANNELS), dtype=np.uint8)\n",
    "ORIGIN[0] = img_\n",
    "img = resize(img_, (IMG_HEIGHT, IMG_WIDTH), mode='constant', preserve_range=True)\n",
    "X[0] = img\n",
    "\n",
    "preds_test = model_New.predict(X, verbose=1)\n",
    "# we apply a threshold on predicted mask (probability mask) to convert it to a binary mask.\n",
    "preds_test_opt = (preds_test > 0.2).astype(np.uint8)\n",
    "\n",
    "result_ = np.squeeze(preds_test_opt[0, :, :, 0])\n",
    "mask = np.zeros((1,h_or,w_or), dtype=np.uint8)\n",
    "res_ = resize(result_, (h_or, w_or), mode='constant', preserve_range=True)\n",
    "mask[0] = res_\n",
    "mask_output = mask[0,:,:]\n",
    "\n",
    "plt.imshow(mask_output,cmap='gray')\n",
    "plt.axis('off')"
   ]
  }
 ],
 "metadata": {
  "kernelspec": {
   "display_name": "Python 3",
   "language": "python",
   "name": "python3"
  },
  "language_info": {
   "codemirror_mode": {
    "name": "ipython",
    "version": 3
   },
   "file_extension": ".py",
   "mimetype": "text/x-python",
   "name": "python",
   "nbconvert_exporter": "python",
   "pygments_lexer": "ipython3",
   "version": "3.10.16"
  }
 },
 "nbformat": 4,
 "nbformat_minor": 2
}
